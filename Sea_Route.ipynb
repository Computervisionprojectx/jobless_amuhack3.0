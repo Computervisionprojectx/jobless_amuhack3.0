{
  "nbformat": 4,
  "nbformat_minor": 0,
  "metadata": {
    "colab": {
      "provenance": [],
      "authorship_tag": "ABX9TyOT7/WCOvTwnpD8aKaO97OY",
      "include_colab_link": true
    },
    "kernelspec": {
      "name": "python3",
      "display_name": "Python 3"
    },
    "language_info": {
      "name": "python"
    }
  },
  "cells": [
    {
      "cell_type": "markdown",
      "metadata": {
        "id": "view-in-github",
        "colab_type": "text"
      },
      "source": [
        "<a href=\"https://colab.research.google.com/github/Computervisionprojectx/jobless_amuhack3.0/blob/main/Sea_Route.ipynb\" target=\"_parent\"><img src=\"https://colab.research.google.com/assets/colab-badge.svg\" alt=\"Open In Colab\"/></a>"
      ]
    },
    {
      "cell_type": "code",
      "execution_count": null,
      "metadata": {
        "id": "tLrL9A2_yRLJ"
      },
      "outputs": [],
      "source": [
        "pip install scgraph>=1.0.0"
      ]
    },
    {
      "cell_type": "code",
      "source": [
        "from geopy.geocoders import Nominatim\n",
        "from geopy.distance import geodesic"
      ],
      "metadata": {
        "id": "dG--tiSN6mDw"
      },
      "execution_count": null,
      "outputs": []
    },
    {
      "cell_type": "code",
      "source": [
        "geolocator = Nominatim(user_agent=\"my_geocoder\")\n",
        "\n",
        "# Jamnagar Port\n",
        "start_location = geolocator.geocode(\"Nampo, North Korea\")\n",
        "start_lat = start_location.latitude\n",
        "start_long = start_location.longitude\n",
        "\n",
        "# Choose a Russian port (e.g., St. Petersburg)\n",
        "end_location = geolocator.geocode(\"Nagoya, Japan\")\n",
        "end_lat = end_location.latitude\n",
        "end_long = end_location.longitude\n",
        "\n",
        "print(f\"Latitude {start_lat}, Longitude {start_long}\")\n",
        "print(f\"Latitude {end_lat}, Longitude {end_long}\")"
      ],
      "metadata": {
        "colab": {
          "base_uri": "https://localhost:8080/"
        },
        "id": "izuWFHPS6nGJ",
        "outputId": "b1474a18-d3b5-451a-9694-ed36964b669d"
      },
      "execution_count": null,
      "outputs": [
        {
          "output_type": "stream",
          "name": "stdout",
          "text": [
            "Latitude 38.7367448, Longitude 125.4115285\n",
            "Latitude 35.1851045, Longitude 136.8998438\n"
          ]
        }
      ]
    },
    {
      "cell_type": "code",
      "source": [
        "from scgraph.geographs.marnet import marnet_geograph\n",
        "\n",
        "\n",
        "output = marnet_geograph.get_shortest_path(\n",
        "      origin_node={\"latitude\": start_lat,\"longitude\": start_long},\n",
        "      destination_node={\"latitude\": end_lat,\"longitude\": end_long}\n",
        ")\n",
        "\n",
        "# Show the length\n",
        "print(output['coordinate_path'])\n",
        "print('Length: ',output['length']) #=> Length:  19596.4653"
      ],
      "metadata": {
        "colab": {
          "base_uri": "https://localhost:8080/"
        },
        "id": "J_kd4pv1zkvC",
        "outputId": "e9e8a1b9-1065-4077-c5fe-f1106a855cab"
      },
      "execution_count": null,
      "outputs": [
        {
          "output_type": "stream",
          "name": "stdout",
          "text": [
            "[[38.7367448, 125.4115285], [37.4, 125.5], [36.0, 125.5], [34.4, 125.6], [34.2, 127.6], [35.0, 129.2], [34.3, 130.1], [33.9912, 130.6906], [33.9434, 131.0669], [33.7951, 131.2125], [33.75, 131.9], [33.8202, 132.4622], [34.1027, 132.6599], [34.1527, 132.962], [34.0709, 133.0856], [34.3321, 133.6349], [34.4182, 134.0057], [34.3888, 134.393], [34.0982, 134.8599], [34.3774, 135.1], [34.5767, 135.2637], [35.1851045, 136.8998438]]\n",
            "Length:  1680.2915\n"
          ]
        }
      ]
    },
    {
      "cell_type": "code",
      "source": [
        "import folium\n",
        "\n",
        "m = folium.Map()\n",
        "\n",
        "trail_coordinates = output['coordinate_path']\n",
        "\n",
        "folium.PolyLine(trail_coordinates, tooltip=\"Coast\").add_to(m)\n",
        "\n",
        "m\n"
      ],
      "metadata": {
        "colab": {
          "base_uri": "https://localhost:8080/",
          "height": 664
        },
        "id": "oVums--Azns4",
        "outputId": "24d9e162-e447-44d1-f9d1-6faf5e8985be"
      },
      "execution_count": null,
      "outputs": [
        {
          "output_type": "execute_result",
          "data": {
            "text/plain": [
              "<folium.folium.Map at 0x79d391fa49d0>"
            ],
            "text/html": [
              "<div style=\"width:100%;\"><div style=\"position:relative;width:100%;height:0;padding-bottom:60%;\"><span style=\"color:#565656\">Make this Notebook Trusted to load map: File -> Trust Notebook</span><iframe srcdoc=\"&lt;!DOCTYPE html&gt;\n",
              "&lt;html&gt;\n",
              "&lt;head&gt;\n",
              "    \n",
              "    &lt;meta http-equiv=&quot;content-type&quot; content=&quot;text/html; charset=UTF-8&quot; /&gt;\n",
              "    \n",
              "        &lt;script&gt;\n",
              "            L_NO_TOUCH = false;\n",
              "            L_DISABLE_3D = false;\n",
              "        &lt;/script&gt;\n",
              "    \n",
              "    &lt;style&gt;html, body {width: 100%;height: 100%;margin: 0;padding: 0;}&lt;/style&gt;\n",
              "    &lt;style&gt;#map {position:absolute;top:0;bottom:0;right:0;left:0;}&lt;/style&gt;\n",
              "    &lt;script src=&quot;https://cdn.jsdelivr.net/npm/leaflet@1.9.3/dist/leaflet.js&quot;&gt;&lt;/script&gt;\n",
              "    &lt;script src=&quot;https://code.jquery.com/jquery-3.7.1.min.js&quot;&gt;&lt;/script&gt;\n",
              "    &lt;script src=&quot;https://cdn.jsdelivr.net/npm/bootstrap@5.2.2/dist/js/bootstrap.bundle.min.js&quot;&gt;&lt;/script&gt;\n",
              "    &lt;script src=&quot;https://cdnjs.cloudflare.com/ajax/libs/Leaflet.awesome-markers/2.0.2/leaflet.awesome-markers.js&quot;&gt;&lt;/script&gt;\n",
              "    &lt;link rel=&quot;stylesheet&quot; href=&quot;https://cdn.jsdelivr.net/npm/leaflet@1.9.3/dist/leaflet.css&quot;/&gt;\n",
              "    &lt;link rel=&quot;stylesheet&quot; href=&quot;https://cdn.jsdelivr.net/npm/bootstrap@5.2.2/dist/css/bootstrap.min.css&quot;/&gt;\n",
              "    &lt;link rel=&quot;stylesheet&quot; href=&quot;https://netdna.bootstrapcdn.com/bootstrap/3.0.0/css/bootstrap-glyphicons.css&quot;/&gt;\n",
              "    &lt;link rel=&quot;stylesheet&quot; href=&quot;https://cdn.jsdelivr.net/npm/@fortawesome/fontawesome-free@6.2.0/css/all.min.css&quot;/&gt;\n",
              "    &lt;link rel=&quot;stylesheet&quot; href=&quot;https://cdnjs.cloudflare.com/ajax/libs/Leaflet.awesome-markers/2.0.2/leaflet.awesome-markers.css&quot;/&gt;\n",
              "    &lt;link rel=&quot;stylesheet&quot; href=&quot;https://cdn.jsdelivr.net/gh/python-visualization/folium/folium/templates/leaflet.awesome.rotate.min.css&quot;/&gt;\n",
              "    \n",
              "            &lt;meta name=&quot;viewport&quot; content=&quot;width=device-width,\n",
              "                initial-scale=1.0, maximum-scale=1.0, user-scalable=no&quot; /&gt;\n",
              "            &lt;style&gt;\n",
              "                #map_23c4ca27f0f8b62e29213dd9d4b87985 {\n",
              "                    position: relative;\n",
              "                    width: 100.0%;\n",
              "                    height: 100.0%;\n",
              "                    left: 0.0%;\n",
              "                    top: 0.0%;\n",
              "                }\n",
              "                .leaflet-container { font-size: 1rem; }\n",
              "            &lt;/style&gt;\n",
              "        \n",
              "&lt;/head&gt;\n",
              "&lt;body&gt;\n",
              "    \n",
              "    \n",
              "            &lt;div class=&quot;folium-map&quot; id=&quot;map_23c4ca27f0f8b62e29213dd9d4b87985&quot; &gt;&lt;/div&gt;\n",
              "        \n",
              "&lt;/body&gt;\n",
              "&lt;script&gt;\n",
              "    \n",
              "    \n",
              "            var map_23c4ca27f0f8b62e29213dd9d4b87985 = L.map(\n",
              "                &quot;map_23c4ca27f0f8b62e29213dd9d4b87985&quot;,\n",
              "                {\n",
              "                    center: [0.0, 0.0],\n",
              "                    crs: L.CRS.EPSG3857,\n",
              "                    zoom: 1,\n",
              "                    zoomControl: true,\n",
              "                    preferCanvas: false,\n",
              "                }\n",
              "            );\n",
              "\n",
              "            \n",
              "\n",
              "        \n",
              "    \n",
              "            var tile_layer_0d6c56016b7263d007b8ea0271114168 = L.tileLayer(\n",
              "                &quot;https://tile.openstreetmap.org/{z}/{x}/{y}.png&quot;,\n",
              "                {&quot;attribution&quot;: &quot;\\u0026copy; \\u003ca href=\\&quot;https://www.openstreetmap.org/copyright\\&quot;\\u003eOpenStreetMap\\u003c/a\\u003e contributors&quot;, &quot;detectRetina&quot;: false, &quot;maxNativeZoom&quot;: 19, &quot;maxZoom&quot;: 19, &quot;minZoom&quot;: 0, &quot;noWrap&quot;: false, &quot;opacity&quot;: 1, &quot;subdomains&quot;: &quot;abc&quot;, &quot;tms&quot;: false}\n",
              "            );\n",
              "        \n",
              "    \n",
              "            tile_layer_0d6c56016b7263d007b8ea0271114168.addTo(map_23c4ca27f0f8b62e29213dd9d4b87985);\n",
              "        \n",
              "    \n",
              "            var poly_line_e9752c0d16fa9cbc22093954892cf645 = L.polyline(\n",
              "                [[38.7367448, 125.4115285], [37.4, 125.5], [36.0, 125.5], [34.4, 125.6], [34.2, 127.6], [35.0, 129.2], [34.3, 130.1], [33.9912, 130.6906], [33.9434, 131.0669], [33.7951, 131.2125], [33.75, 131.9], [33.8202, 132.4622], [34.1027, 132.6599], [34.1527, 132.962], [34.0709, 133.0856], [34.3321, 133.6349], [34.4182, 134.0057], [34.3888, 134.393], [34.0982, 134.8599], [34.3774, 135.1], [34.5767, 135.2637], [35.1851045, 136.8998438]],\n",
              "                {&quot;bubblingMouseEvents&quot;: true, &quot;color&quot;: &quot;#3388ff&quot;, &quot;dashArray&quot;: null, &quot;dashOffset&quot;: null, &quot;fill&quot;: false, &quot;fillColor&quot;: &quot;#3388ff&quot;, &quot;fillOpacity&quot;: 0.2, &quot;fillRule&quot;: &quot;evenodd&quot;, &quot;lineCap&quot;: &quot;round&quot;, &quot;lineJoin&quot;: &quot;round&quot;, &quot;noClip&quot;: false, &quot;opacity&quot;: 1.0, &quot;smoothFactor&quot;: 1.0, &quot;stroke&quot;: true, &quot;weight&quot;: 3}\n",
              "            ).addTo(map_23c4ca27f0f8b62e29213dd9d4b87985);\n",
              "        \n",
              "    \n",
              "            poly_line_e9752c0d16fa9cbc22093954892cf645.bindTooltip(\n",
              "                `&lt;div&gt;\n",
              "                     Coast\n",
              "                 &lt;/div&gt;`,\n",
              "                {&quot;sticky&quot;: true}\n",
              "            );\n",
              "        \n",
              "&lt;/script&gt;\n",
              "&lt;/html&gt;\" style=\"position:absolute;width:100%;height:100%;left:0;top:0;border:none !important;\" allowfullscreen webkitallowfullscreen mozallowfullscreen></iframe></div></div>"
            ]
          },
          "metadata": {},
          "execution_count": 35
        }
      ]
    }
  ]
}